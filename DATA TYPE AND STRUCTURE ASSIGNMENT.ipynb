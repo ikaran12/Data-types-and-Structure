{
 "cells": [
  {
   "cell_type": "code",
   "execution_count": 1,
   "id": "b032c7b7-85f8-4867-b863-9d826c9988f2",
   "metadata": {},
   "outputs": [],
   "source": [
    "# DATA TYPES AND STRUCTURE THEORY QUESTIONS"
   ]
  },
  {
   "cell_type": "raw",
   "id": "612dc06f-06f4-43df-95e3-bb17e86edd95",
   "metadata": {},
   "source": [
    "1. What are data structures, and why are they important?"
   ]
  },
  {
   "cell_type": "raw",
   "id": "a879c780-2d3c-4576-a52a-2094d606856b",
   "metadata": {},
   "source": [
    "->> A data structure is a way to organize and store data so it can be used efficiently. For example:\n",
    "\n",
    "A list is like a shopping list where items are written in order. They are important because -: Makes Things Organized, Helps Solve Problems Faster, Handles Large Amounts of Data etc."
   ]
  },
  {
   "cell_type": "raw",
   "id": "c8f773dc-4861-48c5-aa9d-d86bf5712e16",
   "metadata": {},
   "source": [
    "2.  Explain the difference between mutable and immutable data types with examples ?"
   ]
  },
  {
   "cell_type": "raw",
   "id": "9dc5574d-ee59-4095-946e-2c29a9863810",
   "metadata": {},
   "source": [
    "-> In programming, mutable and immutable refer to whether or not a piece of data can be changed after it’s created.\n",
    "In mutable data types, You can modify the data inside them without creating a new object. For examples - list and dictionary\n",
    "In immutable data types,  the data cannot be modified. For example - String and Tuple"
   ]
  },
  {
   "cell_type": "raw",
   "id": "52911428-1242-421c-9be5-f827bd9f9e23",
   "metadata": {},
   "source": [
    "3.  What are the main differences between lists and tuples in Python?"
   ]
  },
  {
   "cell_type": "raw",
   "id": "bb981a61-f489-4a0b-87a0-149afa9e71e3",
   "metadata": {},
   "source": [
    "->> In Python, lists and tuples are both used to store collections of items, but they have some important differences.\n",
    "1. Mutability - lists are mutable and tuples are imutable\n",
    "2. Syntax - list [] and tuples ()\n",
    "3. Functions and Operations - \n",
    "Lists: Have more built-in methods like append(), remove(), etc., to modify the data.\n",
    "Tuples: Have fewer methods because you can't modify them"
   ]
  },
  {
   "cell_type": "raw",
   "id": "329c9e87-34b5-4afa-841e-e1d263958466",
   "metadata": {},
   "source": [
    "4.  Describe how dictionaries store data?"
   ]
  },
  {
   "cell_type": "raw",
   "id": "86bdbd2c-18d2-4531-b2a4-8f1f4c400d87",
   "metadata": {},
   "source": [
    "->> A dictionary in Python is like a real-world dictionary: it stores data in key-value pairs. Each key is like a word, and the value is like the meaning of that word.\n",
    "Example - my_dict = {\"name\": \"Alice\", \"age\": 25, \"city\": \"New York\"}\n",
    "\"name\" is a key, \"Alice\" is its value.\n",
    "\"age\" is a key, 25 is its value"
   ]
  },
  {
   "cell_type": "raw",
   "id": "54d70217-b2cd-4d5a-a462-c7f83bc910b4",
   "metadata": {},
   "source": [
    "5. Why might you use a set instead of a list in Python?"
   ]
  },
  {
   "cell_type": "raw",
   "id": "3c0e0fd9-358c-4809-85d5-9a4769a6e746",
   "metadata": {},
   "source": [
    "->> A set in Python is a collection of unique items. While both sets and lists can store multiple elements, there are specific scenarios where using a set is more beneficial than using a list.\n",
    "Use a set when:\n",
    "\n",
    "You need unique elements.\n",
    "Performance is critical for large collections.\n",
    "\n",
    "Use a list when:\n",
    "\n",
    "Order matters.\n",
    "You need to allow duplicates.\n",
    "You need features like indexing or slicing."
   ]
  },
  {
   "cell_type": "raw",
   "id": "e41302c2-627f-482a-8cbd-2e94a9c27bd4",
   "metadata": {},
   "source": [
    "6. What is a string in Python, and how is it different from a list? \n"
   ]
  },
  {
   "cell_type": "raw",
   "id": "15c166f7-01c6-4654-badc-fd83dbac4b42",
   "metadata": {},
   "source": [
    "->> A string in Python is a sequence of characters used to represent text.\n",
    "Although both strings and lists are sequences (a collection of items in a specific order), they have some key differences:\n",
    "String: Contains characters (letters, numbers, symbols). whereas List can contain any type of data (numbers, strings, other lists, etc.\n",
    "string is immutable whereas lists are mutable\n",
    "string is used for working with text whereas list are used for working with collection of data even if they are not text."
   ]
  },
  {
   "cell_type": "raw",
   "id": "ace96fae-3d0a-4c65-acfb-576b53c6141b",
   "metadata": {},
   "source": [
    "7.  How do tuples ensure data integrity in Python??"
   ]
  },
  {
   "cell_type": "raw",
   "id": "07b7964f-76ed-410c-b88d-eaac189ce08d",
   "metadata": {},
   "source": [
    "->> A tuple is a collection of items in Python that is immutable, meaning it cannot be changed once created. This immutability is what helps tuples ensure data integrity.Once a tuple is created, its contents cannot be modified—no adding, removing, or changing items.\n",
    "This prevents accidental changes to the data. This ensures data integrity. "
   ]
  },
  {
   "cell_type": "raw",
   "id": "d5cd8db1-eb2d-483f-bd33-6aeae5be99a4",
   "metadata": {},
   "source": [
    "8. What is a hash table, and how does it relate to dictionaries in Python?"
   ]
  },
  {
   "cell_type": "code",
   "execution_count": null,
   "id": "117bc2af-48af-4d72-9223-e9109f75bc2b",
   "metadata": {},
   "outputs": [],
   "source": []
  },
  {
   "cell_type": "raw",
   "id": "93f40a59-cde3-4453-8c43-59e51a3bc182",
   "metadata": {},
   "source": [
    "9. Can lists contain different data types in Python?"
   ]
  },
  {
   "cell_type": "raw",
   "id": "d9ef5037-33f3-4bff-a459-8a212dc06aba",
   "metadata": {},
   "source": [
    "->> Yes! In Python, lists can contain different data types. This means you can store numbers, strings, booleans, or even other lists together in the same list. For example - my_list = [42, \"hello\", True, 3.14]"
   ]
  },
  {
   "cell_type": "raw",
   "id": "5c4b6c5f-418a-45c4-a95d-6cbf3e6a2161",
   "metadata": {},
   "source": [
    "10. Explain why strings are immutable in Python??"
   ]
  },
  {
   "cell_type": "raw",
   "id": "d189bb94-30a5-478d-91b8-edbf1adeb846",
   "metadata": {},
   "source": [
    "->> In Python, strings are immutable, which means that once a string is created, its contents cannot be changed. You cannot modify, add, or remove characters from an existing string.Strings are immutable because it helps with performance, memory efficiency, and consistency.\n",
    "If you want to change a string, you create a new one instead of modifying the original."
   ]
  },
  {
   "cell_type": "raw",
   "id": "5184fa6d-5c1a-4e5c-bdb6-0eebf2f3b29b",
   "metadata": {},
   "source": [
    "11.  What advantages do dictionaries offer over lists for certain tasks?? "
   ]
  },
  {
   "cell_type": "raw",
   "id": "917a83d4-3299-49af-91aa-2740b9af4b90",
   "metadata": {},
   "source": [
    "->> Dictionaries in Python offer several advantages over lists, especially when it comes to tasks that involve quickly looking up or organizing data. \n",
    "  1. Dictionaries allow you to access values quickly using a key\n",
    "  2. Dictionaries store data as key-value pairs, making them ideal for situations where you need to associate one piece of data with another (like names with ages, or product IDs with prices)."
   ]
  },
  {
   "cell_type": "raw",
   "id": "9eeae502-f926-4f25-b690-82363087ad98",
   "metadata": {},
   "source": [
    "12. Describe a scenario where using a tuple would be preferable over a list?"
   ]
  },
  {
   "cell_type": "raw",
   "id": "d88d11e0-47b2-478c-b860-683bf3069b01",
   "metadata": {},
   "source": [
    "->> Suppose you need to store the name of the day and the day number (1 for Monday, 2 for Tuesday, etc.) for a calendar.\n",
    "\n",
    "Day of the Week is unchangeable once set. You don't want the day to accidentally change, like turning Monday into Friday.\n",
    "Using a tuple ensures that the data stays fixed and cannot be changed by mistake."
   ]
  },
  {
   "cell_type": "raw",
   "id": "8c31c869-4c91-4e6f-9da6-4aa110166a0f",
   "metadata": {},
   "source": [
    "13.  How do sets handle duplicate values in Python??"
   ]
  },
  {
   "cell_type": "raw",
   "id": "37151508-0da4-4b26-aaca-392ce3eb1fc5",
   "metadata": {},
   "source": [
    "->> In Python, sets automatically remove duplicates. A set only keeps unique values, so if you try to add the same value more than once, it will only appear once in the set"
   ]
  },
  {
   "cell_type": "raw",
   "id": "ec36bfe7-616c-4a54-8fbf-aa315bcdf2f7",
   "metadata": {},
   "source": [
    "14.  How does the “in” keyword work differently for lists and dictionaries??"
   ]
  },
  {
   "cell_type": "raw",
   "id": "b9934963-6953-4363-ba8b-cad69c28d8ae",
   "metadata": {},
   "source": [
    "->> In Python, the in keyword is used to check if a value exists in a list or a dictionary, but it works in different ways for each.\n",
    "When you use in with a list, it checks if the value you’re looking for exists in the list.\n",
    "When you use in with a dictionary, it checks if the key you’re looking for exists in the dictionary, not the value"
   ]
  },
  {
   "cell_type": "raw",
   "id": "dc217394-00d9-4dd5-bc86-9148a0326fae",
   "metadata": {},
   "source": [
    "15. Can you modify the elements of a tuple? Explain why or why not?"
   ]
  },
  {
   "cell_type": "raw",
   "id": "9024691f-0e90-4d9a-9759-31b654b0f1ae",
   "metadata": {},
   "source": [
    "->> No, we cannot modify the elements of a tuple in Python because a tuple is immutable, which means that once you create a tuple, you cannot change its contents—no adding, removing, or modifying elements."
   ]
  },
  {
   "cell_type": "raw",
   "id": "71cea85a-b977-4c32-bf7e-a3429027d4b1",
   "metadata": {},
   "source": [
    "16. What is a nested dictionary, and give an example of its use case?"
   ]
  },
  {
   "cell_type": "raw",
   "id": "189bd940-d6c0-43c3-9b23-0d9894b34026",
   "metadata": {},
   "source": [
    "->>A nested dictionary is a dictionary inside another dictionary. Example of a Nested Dictionary:\n",
    "Imagine you're storing information about multiple students, and for each student, you have their name, age, and subjects.\n",
    "Here, each student's name is a key, and the value for each student is another dictionary containing the student's age and subjects.\n",
    "A common use case for a nested dictionary is when you have complex data that needs to be grouped into categories."
   ]
  },
  {
   "cell_type": "raw",
   "id": "147e613d-a0d1-4970-b404-18cb78c386fb",
   "metadata": {},
   "source": [
    "17. Describe the time complexity of accessing elements in a dictionary??"
   ]
  },
  {
   "cell_type": "raw",
   "id": "175c6d39-60a7-49cf-9fa3-0b7c8798faa3",
   "metadata": {},
   "source": [
    "18.In what situations are lists preferred over dictionaries??"
   ]
  },
  {
   "cell_type": "raw",
   "id": "a775681a-753d-463d-a416-08be569c97ec",
   "metadata": {},
   "source": [
    "->> Lists maintain the order in which items are added. If you need to store data and access it in a specific order a list is a better choice.\n",
    "   Lists allow duplicates, meaning you can store the same item more than once. If you need to store items that can repeat a list is the right choice\n",
    "   Lists are useful when you're dealing with multiple items of the same type (e.g., a collection of numbers, strings, etc.), and you don’t need to associate each item with a specific key."
   ]
  },
  {
   "cell_type": "raw",
   "id": "480245e8-a5a0-4dbf-a78f-45019b41631b",
   "metadata": {},
   "source": [
    "19. Why are dictionaries considered unordered, and how does that affect data retrieval??"
   ]
  },
  {
   "cell_type": "raw",
   "id": "6cc6a017-1b16-4b6d-94a8-beac9fb2a4eb",
   "metadata": {},
   "source": [
    "In Python, dictionaries are considered unordered because they do not maintain the order of elements in the way that lists do"
   ]
  },
  {
   "cell_type": "raw",
   "id": "f36515c8-a32e-4fc9-92ab-b6433dbcdd24",
   "metadata": {},
   "source": [
    "20.  Explain the difference between a list and a dictionary in terms of data retrieval."
   ]
  },
  {
   "cell_type": "code",
   "execution_count": null,
   "id": "32fabbd8-6f62-4249-8732-c49f849088a7",
   "metadata": {},
   "outputs": [],
   "source": []
  },
  {
   "cell_type": "code",
   "execution_count": null,
   "id": "1a105d40-d1f1-46f6-970a-28c8b41904cb",
   "metadata": {},
   "outputs": [],
   "source": []
  },
  {
   "cell_type": "raw",
   "id": "775b84ac-cf82-4557-8e7b-c98d224fa7d2",
   "metadata": {},
   "source": [
    "# DATA TYPES AND STRUCTURE PRACTICAL QUESTIONS"
   ]
  },
  {
   "cell_type": "raw",
   "id": "302cd90c-0700-42a0-9c31-bf1fd3f857c5",
   "metadata": {},
   "source": [
    "1. Write a code to create a string with your name and print it?"
   ]
  },
  {
   "cell_type": "code",
   "execution_count": 6,
   "id": "03ae1374-4d87-4ad7-a8dc-3613bc59e519",
   "metadata": {},
   "outputs": [
    {
     "name": "stdout",
     "output_type": "stream",
     "text": [
      "Gurpreet singh\n"
     ]
    }
   ],
   "source": [
    "my_name = \"Gurpreet singh\"\n",
    "print(my_name)"
   ]
  },
  {
   "cell_type": "raw",
   "id": "c290e84e-1531-4c36-808f-e88a5bda9dfa",
   "metadata": {},
   "source": [
    "2. Write a code to find the length of the string \"Hello World\"?"
   ]
  },
  {
   "cell_type": "code",
   "execution_count": 8,
   "id": "58c1f160-95c9-4e20-be59-0760d8403a8d",
   "metadata": {},
   "outputs": [
    {
     "data": {
      "text/plain": [
       "11"
      ]
     },
     "execution_count": 8,
     "metadata": {},
     "output_type": "execute_result"
    }
   ],
   "source": [
    "string = \"Hello World\"\n",
    "len(string)"
   ]
  },
  {
   "cell_type": "raw",
   "id": "027c0d31-9f92-43e1-b947-d9ae67098b3c",
   "metadata": {},
   "source": [
    "3. Write a code to slice the first 3 characters from the string \"Python Programming\"?"
   ]
  },
  {
   "cell_type": "code",
   "execution_count": 18,
   "id": "2b02a47d-ed7c-4226-849b-32c00b14302d",
   "metadata": {},
   "outputs": [
    {
     "name": "stdout",
     "output_type": "stream",
     "text": [
      "Pyt\n"
     ]
    }
   ],
   "source": [
    "my_string = \"Python Programming\"\n",
    "sliced_string = my_string[:3]\n",
    "print(sliced_string)\n"
   ]
  },
  {
   "cell_type": "raw",
   "id": "01099f26-2bc1-4743-85b2-54c221d0125a",
   "metadata": {},
   "source": [
    "4. Write a code to convert the string \"hello\" to uppercase?"
   ]
  },
  {
   "cell_type": "code",
   "execution_count": 19,
   "id": "2e37f67f-5056-43a7-b27c-c5f145297b0b",
   "metadata": {},
   "outputs": [
    {
     "name": "stdout",
     "output_type": "stream",
     "text": [
      "HELLO\n"
     ]
    }
   ],
   "source": [
    "my_string = \"hello\"\n",
    "uppercase_string = my_string.upper()\n",
    "print(uppercase_string)\n"
   ]
  },
  {
   "cell_type": "raw",
   "id": "0a754290-3c55-47b0-ae93-3778978c18c7",
   "metadata": {},
   "source": [
    "5. Write a code to replace the word \"apple\" with \"orange\" in the string \"I like apple\"?"
   ]
  },
  {
   "cell_type": "code",
   "execution_count": 17,
   "id": "5a07167a-8190-4d94-8ac2-e6ca09145169",
   "metadata": {},
   "outputs": [
    {
     "name": "stdout",
     "output_type": "stream",
     "text": [
      "I like orange\n"
     ]
    }
   ],
   "source": [
    "my_string = \"I like apple\"\n",
    "new_string = my_string.replace(\"apple\", \"orange\")\n",
    "print(new_string)\n"
   ]
  },
  {
   "cell_type": "raw",
   "id": "a90e7b65-6b04-4b73-8c9b-b91b7dc7f2b1",
   "metadata": {},
   "source": [
    "6. Write a code to create a list with numbers 1 to 5 and print it ?"
   ]
  },
  {
   "cell_type": "code",
   "execution_count": 12,
   "id": "08696523-9032-40b9-857f-6c09a364f408",
   "metadata": {},
   "outputs": [
    {
     "name": "stdout",
     "output_type": "stream",
     "text": [
      "[1, 2, 3, 4, 5]\n"
     ]
    }
   ],
   "source": [
    "\n",
    "my_list = [1, 2, 3, 4, 5]\n",
    "\n",
    "\n",
    "print(my_list)\n"
   ]
  },
  {
   "cell_type": "raw",
   "id": "27c4a8f1-4011-4752-89e3-006b09ec8e3c",
   "metadata": {},
   "source": [
    "7. Write a code to append the number 10 to the list [1, 2, 3, 4]?"
   ]
  },
  {
   "cell_type": "code",
   "execution_count": 13,
   "id": "bd24de20-33de-4dd9-8151-5905c7d7cd33",
   "metadata": {},
   "outputs": [
    {
     "name": "stdout",
     "output_type": "stream",
     "text": [
      "[1, 2, 3, 4, 10]\n"
     ]
    }
   ],
   "source": [
    "my_list = [1, 2, 3, 4]\n",
    "\n",
    "my_list.append(10)\n",
    "\n",
    "print(my_list)\n"
   ]
  },
  {
   "cell_type": "raw",
   "id": "57b8e725-36a4-4003-8882-3a6541834888",
   "metadata": {},
   "source": [
    "8. Write a code to remove the number 3 from the list [1, 2, 3, 4, 5]??"
   ]
  },
  {
   "cell_type": "code",
   "execution_count": 14,
   "id": "ce72675d-0516-46e3-8f07-66c718607b24",
   "metadata": {},
   "outputs": [
    {
     "name": "stdout",
     "output_type": "stream",
     "text": [
      "[1, 2, 4, 5]\n"
     ]
    }
   ],
   "source": [
    "# Creating the list\n",
    "my_list = [1, 2, 3, 4, 5]\n",
    "my_list.remove(3)\n",
    "print(my_list)\n"
   ]
  },
  {
   "cell_type": "raw",
   "id": "d91ffd67-746e-43d7-b2ed-c73277bc5755",
   "metadata": {},
   "source": [
    "9. Write a code to access the second element in the list ['a', 'b', 'c', 'd']??"
   ]
  },
  {
   "cell_type": "code",
   "execution_count": 15,
   "id": "f060c964-8f06-4aeb-afd8-83e92913db8b",
   "metadata": {},
   "outputs": [
    {
     "name": "stdout",
     "output_type": "stream",
     "text": [
      "b\n"
     ]
    }
   ],
   "source": [
    "my_list = ['a', 'b', 'c', 'd']\n",
    "second_element = my_list[1]\n",
    "print(second_element)\n"
   ]
  },
  {
   "cell_type": "raw",
   "id": "b7b0ac19-d9ab-4720-bb0a-ce2c596ad3f1",
   "metadata": {},
   "source": [
    "10. Write a code to reverse the list [10, 20, 30, 40, 50]."
   ]
  },
  {
   "cell_type": "code",
   "execution_count": 16,
   "id": "d7270659-5af2-4adf-85f8-048a979024db",
   "metadata": {},
   "outputs": [
    {
     "name": "stdout",
     "output_type": "stream",
     "text": [
      "[50, 40, 30, 20, 10]\n"
     ]
    }
   ],
   "source": [
    "my_list = [10, 20, 30, 40, 50]\n",
    "my_list.reverse()\n",
    "print(my_list)\n"
   ]
  },
  {
   "cell_type": "code",
   "execution_count": null,
   "id": "f34d8b97-7b4a-4c0e-8109-17839bd08f7a",
   "metadata": {},
   "outputs": [],
   "source": []
  }
 ],
 "metadata": {
  "kernelspec": {
   "display_name": "Python 3 (ipykernel)",
   "language": "python",
   "name": "python3"
  },
  "language_info": {
   "codemirror_mode": {
    "name": "ipython",
    "version": 3
   },
   "file_extension": ".py",
   "mimetype": "text/x-python",
   "name": "python",
   "nbconvert_exporter": "python",
   "pygments_lexer": "ipython3",
   "version": "3.12.7"
  }
 },
 "nbformat": 4,
 "nbformat_minor": 5
}
